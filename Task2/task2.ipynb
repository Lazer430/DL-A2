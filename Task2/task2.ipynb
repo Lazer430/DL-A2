{
 "cells": [
  {
   "cell_type": "code",
   "execution_count": 1,
   "metadata": {},
   "outputs": [],
   "source": [
    "# !pip install pandas_datareader\n",
    "# !pip install yfinance"
   ]
  },
  {
   "cell_type": "code",
   "execution_count": 1,
   "metadata": {},
   "outputs": [
    {
     "name": "stderr",
     "output_type": "stream",
     "text": [
      "2023-10-19 23:19:18.747830: E tensorflow/compiler/xla/stream_executor/cuda/cuda_dnn.cc:9342] Unable to register cuDNN factory: Attempting to register factory for plugin cuDNN when one has already been registered\n",
      "2023-10-19 23:19:18.747979: E tensorflow/compiler/xla/stream_executor/cuda/cuda_fft.cc:609] Unable to register cuFFT factory: Attempting to register factory for plugin cuFFT when one has already been registered\n",
      "2023-10-19 23:19:18.750426: E tensorflow/compiler/xla/stream_executor/cuda/cuda_blas.cc:1518] Unable to register cuBLAS factory: Attempting to register factory for plugin cuBLAS when one has already been registered\n",
      "2023-10-19 23:19:18.948343: I tensorflow/core/platform/cpu_feature_guard.cc:182] This TensorFlow binary is optimized to use available CPU instructions in performance-critical operations.\n",
      "To enable the following instructions: AVX2 FMA, in other operations, rebuild TensorFlow with the appropriate compiler flags.\n"
     ]
    }
   ],
   "source": [
    "import pandas as pd\n",
    "import numpy as np\n",
    "import matplotlib.pyplot as plt\n",
    "import tensorflow as tf\n",
    "from tensorflow import keras\n",
    "from sklearn.model_selection import train_test_split\n",
    "from sklearn import metrics\n",
    "import pandas_datareader as pdr\n",
    "import yfinance as yf"
   ]
  },
  {
   "cell_type": "code",
   "execution_count": 43,
   "metadata": {},
   "outputs": [
    {
     "name": "stdout",
     "output_type": "stream",
     "text": [
      "[*********************100%%**********************]  1 of 1 completed\n",
      "Data Shape after load:  (2516, 7)\n"
     ]
    }
   ],
   "source": [
    "data = yf.download(\"AAPL\", start=\"2013-10-16\", end=\"2023-10-16\").reset_index()\n",
    "print(\"Data Shape after load: \", data.shape)"
   ]
  },
  {
   "cell_type": "code",
   "execution_count": 44,
   "metadata": {},
   "outputs": [
    {
     "name": "stdout",
     "output_type": "stream",
     "text": [
      "Data Shape after cleaning:  (2516, 7)\n",
      "Data Shape after removing outliers:  (2381, 7)\n"
     ]
    }
   ],
   "source": [
    "import sklearn.preprocessing as preprocessing\n",
    "\n",
    "# data cleaning\n",
    "data = data.ffill()\n",
    "#check na\n",
    "if data.isna().sum().sum() != 0:\n",
    "    print(\"There are still NA values\")\n",
    "    data = data.bfill()\n",
    "\n",
    "data = data.drop_duplicates()\n",
    "data = data.reset_index(drop=True)\n",
    "print(\"Data Shape after cleaning: \", data.shape)\n",
    "\n",
    "cols = ['Open', 'High', 'Low', 'Close', 'Adj Close', 'Volume']\n",
    "\n",
    "# perform scaling\n",
    "scaler = preprocessing.MinMaxScaler()\n",
    "data[cols] = scaler.fit_transform(data[cols])\n",
    "\n",
    "# remove outliers\n",
    "for col in cols:\n",
    "    interQuartileRange = data[col].quantile(0.75) - data[col].quantile(0.25)\n",
    "    threshold = 3 * interQuartileRange\n",
    "    data = data[data[col] <= threshold]\n",
    "    \n",
    "print(\"Data Shape after removing outliers: \", data.shape)"
   ]
  },
  {
   "cell_type": "code",
   "execution_count": 64,
   "metadata": {},
   "outputs": [
    {
     "name": "stdout",
     "output_type": "stream",
     "text": [
      "X Shape:  (2321, 30, 6)\n",
      "Y Shape:  (2321, 30, 6)\n"
     ]
    }
   ],
   "source": [
    "numberOfInputDays = 30\n",
    "numberOfDaysToPredict = 30\n",
    "\n",
    "# create sequence\n",
    "def create_sequence(data, numberOfInputDays, numberOfDaysToPredict):\n",
    "    x = []\n",
    "    y = []\n",
    "    for i in range(numberOfInputDays, data.shape[0] - numberOfDaysToPredict):\n",
    "        x.append(data.iloc[i-numberOfInputDays:i, 1:len(cols)+1])\n",
    "        y.append(data.iloc[i:i+numberOfDaysToPredict, 1:len(cols)+1])\n",
    "    return np.array(x), np.array(y)\n",
    "\n",
    "X, Y = create_sequence(data, numberOfInputDays, numberOfDaysToPredict)\n",
    "\n",
    "print(\"X Shape: \", X.shape)\n",
    "print(\"Y Shape: \", Y.shape)\n",
    "\n",
    "# print(\"First Sequence i.e 30 Days: X[0]: \\n\", X[0]) # first sequence i.e 30 days\n",
    "# print(\"First day of first sequence: X[0][0]: \\n\", X[0][0]) # first day of first sequence\n",
    "# print(\"First feature of first day of first sequence: X[0][0][0]: \\n\", X[0][0][0]) # first feature of first day of first sequence\n",
    "\n",
    "# print(\"First sequence i.e 7 days: Y[0]: \\n\", Y[0]) # first sequence i.e 7 days\n",
    "# print(\"First day of first sequence:Y[0][0]: \\n\", Y[0][0]) # first day of first sequence\n",
    "# print(\"First feature of first day of first sequence: Y[0][0][0]: \\n\", Y[0][0][0]) # first feature of first day of first sequence\n"
   ]
  },
  {
   "cell_type": "code",
   "execution_count": 69,
   "metadata": {},
   "outputs": [
    {
     "name": "stdout",
     "output_type": "stream",
     "text": [
      "X_train Shape:  (1856, 30, 6)\n",
      "X_test Shape:  (465, 30, 6)\n",
      "Y_train Shape:  (1856, 30, 6)\n",
      "Y_test Shape:  (465, 30, 6)\n"
     ]
    }
   ],
   "source": [
    "from sklearn.model_selection import train_test_split\n",
    "X_train, X_test, Y_train, Y_test = train_test_split(X, Y, shuffle=False, test_size=0.2)\n",
    "\n",
    "print(\"X_train Shape: \", X_train.shape)\n",
    "print(\"X_test Shape: \", X_test.shape)\n",
    "print(\"Y_train Shape: \", Y_train.shape)\n",
    "print(\"Y_test Shape: \", Y_test.shape)\n"
   ]
  },
  {
   "cell_type": "code",
   "execution_count": 70,
   "metadata": {},
   "outputs": [],
   "source": [
    "# apply RNN\n",
    "model = keras.Sequential()\n",
    "model.add(keras.layers.LSTM(units=128, return_sequences=True, input_shape=(X_train.shape[1], X_train.shape[2])))\n",
    "model.add(keras.layers.Dropout(0.2))\n",
    "model.add(keras.layers.TimeDistributed(keras.layers.Dense(units=X_train.shape[2], activation='relu')))\n",
    "model.compile(loss='mean_squared_error', optimizer='adam')\n"
   ]
  },
  {
   "cell_type": "code",
   "execution_count": 71,
   "metadata": {},
   "outputs": [],
   "source": [
    "def trainModel(model, X_train, Y_train, X_test, Y_test, epochs=50, batch_size=32):\n",
    "    # fix input shape\n",
    "    # X_train = X_train.reshape(X_train.shape[0], X_train.shape[1], X_train.shape[2])\n",
    "    # X_test = X_test.reshape(X_test.shape[0], X_test.shape[1], X_test.shape[2])\n",
    "    \n",
    "    # Y_test = Y_test.reshape(Y_test.shape[0], Y_test.shape[1], Y_test.shape[2])\n",
    "    # Y_train = Y_train.reshape(Y_train.shape[0], Y_train.shape[1], Y_train.shape[2])\n",
    "    with tf.device('/device:GPU:0'):\n",
    "        history = model.fit(X_train, Y_train, epochs=epochs, batch_size=batch_size, validation_split=0.1, shuffle=False)\n",
    "    return history"
   ]
  },
  {
   "cell_type": "code",
   "execution_count": 72,
   "metadata": {},
   "outputs": [
    {
     "name": "stdout",
     "output_type": "stream",
     "text": [
      "Epoch 1/50\n",
      "53/53 [==============================] - 3s 26ms/step - loss: 0.0044 - val_loss: 0.0168\n",
      "Epoch 2/50\n",
      "53/53 [==============================] - 1s 18ms/step - loss: 0.0042 - val_loss: 0.0112\n",
      "Epoch 3/50\n",
      "53/53 [==============================] - 1s 17ms/step - loss: 0.0041 - val_loss: 0.0111\n",
      "Epoch 4/50\n",
      "53/53 [==============================] - 1s 17ms/step - loss: 0.0029 - val_loss: 0.0090\n",
      "Epoch 5/50\n",
      "53/53 [==============================] - 1s 16ms/step - loss: 0.0026 - val_loss: 0.0075\n",
      "Epoch 6/50\n",
      "53/53 [==============================] - 1s 15ms/step - loss: 0.0022 - val_loss: 0.0072\n",
      "Epoch 7/50\n",
      "53/53 [==============================] - 1s 15ms/step - loss: 0.0022 - val_loss: 0.0063\n",
      "Epoch 8/50\n",
      "53/53 [==============================] - 1s 16ms/step - loss: 0.0021 - val_loss: 0.0061\n",
      "Epoch 9/50\n",
      "53/53 [==============================] - 1s 15ms/step - loss: 0.0021 - val_loss: 0.0056\n",
      "Epoch 10/50\n",
      "53/53 [==============================] - 1s 15ms/step - loss: 0.0020 - val_loss: 0.0054\n",
      "Epoch 11/50\n",
      "53/53 [==============================] - 1s 15ms/step - loss: 0.0020 - val_loss: 0.0051\n",
      "Epoch 12/50\n",
      "53/53 [==============================] - 1s 14ms/step - loss: 0.0020 - val_loss: 0.0047\n",
      "Epoch 13/50\n",
      "53/53 [==============================] - 1s 15ms/step - loss: 0.0019 - val_loss: 0.0047\n",
      "Epoch 14/50\n",
      "53/53 [==============================] - 1s 16ms/step - loss: 0.0019 - val_loss: 0.0045\n",
      "Epoch 15/50\n",
      "53/53 [==============================] - 1s 16ms/step - loss: 0.0019 - val_loss: 0.0045\n",
      "Epoch 16/50\n",
      "53/53 [==============================] - 1s 16ms/step - loss: 0.0019 - val_loss: 0.0042\n",
      "Epoch 17/50\n",
      "53/53 [==============================] - 1s 16ms/step - loss: 0.0019 - val_loss: 0.0041\n",
      "Epoch 18/50\n",
      "53/53 [==============================] - 1s 18ms/step - loss: 0.0018 - val_loss: 0.0039\n",
      "Epoch 19/50\n",
      "53/53 [==============================] - 1s 16ms/step - loss: 0.0018 - val_loss: 0.0040\n",
      "Epoch 20/50\n",
      "53/53 [==============================] - 1s 17ms/step - loss: 0.0018 - val_loss: 0.0038\n",
      "Epoch 21/50\n",
      "53/53 [==============================] - 1s 17ms/step - loss: 0.0018 - val_loss: 0.0037\n",
      "Epoch 22/50\n",
      "53/53 [==============================] - 1s 15ms/step - loss: 0.0017 - val_loss: 0.0036\n",
      "Epoch 23/50\n",
      "53/53 [==============================] - 1s 15ms/step - loss: 0.0017 - val_loss: 0.0035\n",
      "Epoch 24/50\n",
      "53/53 [==============================] - 1s 15ms/step - loss: 0.0017 - val_loss: 0.0035\n",
      "Epoch 25/50\n",
      "53/53 [==============================] - 1s 15ms/step - loss: 0.0017 - val_loss: 0.0035\n",
      "Epoch 26/50\n",
      "53/53 [==============================] - 1s 15ms/step - loss: 0.0017 - val_loss: 0.0034\n",
      "Epoch 27/50\n",
      "53/53 [==============================] - 1s 15ms/step - loss: 0.0017 - val_loss: 0.0035\n",
      "Epoch 28/50\n",
      "53/53 [==============================] - 1s 15ms/step - loss: 0.0016 - val_loss: 0.0034\n",
      "Epoch 29/50\n",
      "53/53 [==============================] - 1s 15ms/step - loss: 0.0017 - val_loss: 0.0034\n",
      "Epoch 30/50\n",
      "53/53 [==============================] - 1s 17ms/step - loss: 0.0017 - val_loss: 0.0034\n",
      "Epoch 31/50\n",
      "53/53 [==============================] - 1s 16ms/step - loss: 0.0017 - val_loss: 0.0034\n",
      "Epoch 32/50\n",
      "53/53 [==============================] - 1s 15ms/step - loss: 0.0017 - val_loss: 0.0034\n",
      "Epoch 33/50\n",
      "53/53 [==============================] - 1s 14ms/step - loss: 0.0017 - val_loss: 0.0035\n",
      "Epoch 34/50\n",
      "53/53 [==============================] - 1s 15ms/step - loss: 0.0016 - val_loss: 0.0035\n",
      "Epoch 35/50\n",
      "53/53 [==============================] - 1s 13ms/step - loss: 0.0016 - val_loss: 0.0035\n",
      "Epoch 36/50\n",
      "53/53 [==============================] - 1s 15ms/step - loss: 0.0016 - val_loss: 0.0034\n",
      "Epoch 37/50\n",
      "53/53 [==============================] - 1s 14ms/step - loss: 0.0016 - val_loss: 0.0034\n",
      "Epoch 38/50\n",
      "53/53 [==============================] - 1s 14ms/step - loss: 0.0016 - val_loss: 0.0034\n",
      "Epoch 39/50\n",
      "53/53 [==============================] - 1s 15ms/step - loss: 0.0016 - val_loss: 0.0034\n",
      "Epoch 40/50\n",
      "53/53 [==============================] - 1s 15ms/step - loss: 0.0016 - val_loss: 0.0034\n",
      "Epoch 41/50\n",
      "53/53 [==============================] - 1s 14ms/step - loss: 0.0016 - val_loss: 0.0033\n",
      "Epoch 42/50\n",
      "53/53 [==============================] - 1s 16ms/step - loss: 0.0016 - val_loss: 0.0033\n",
      "Epoch 43/50\n",
      "53/53 [==============================] - 1s 15ms/step - loss: 0.0016 - val_loss: 0.0033\n",
      "Epoch 44/50\n",
      "53/53 [==============================] - 1s 14ms/step - loss: 0.0016 - val_loss: 0.0033\n",
      "Epoch 45/50\n",
      "53/53 [==============================] - 1s 14ms/step - loss: 0.0016 - val_loss: 0.0033\n",
      "Epoch 46/50\n",
      "53/53 [==============================] - 1s 13ms/step - loss: 0.0016 - val_loss: 0.0033\n",
      "Epoch 47/50\n",
      "53/53 [==============================] - 1s 14ms/step - loss: 0.0016 - val_loss: 0.0033\n",
      "Epoch 48/50\n",
      "53/53 [==============================] - 1s 15ms/step - loss: 0.0016 - val_loss: 0.0033\n",
      "Epoch 49/50\n",
      "53/53 [==============================] - 1s 14ms/step - loss: 0.0016 - val_loss: 0.0033\n",
      "Epoch 50/50\n",
      "53/53 [==============================] - 1s 15ms/step - loss: 0.0016 - val_loss: 0.0033\n"
     ]
    },
    {
     "data": {
      "text/plain": [
       "<keras.src.callbacks.History at 0x7f4afda66350>"
      ]
     },
     "execution_count": 72,
     "metadata": {},
     "output_type": "execute_result"
    }
   ],
   "source": [
    "trainModel(model, X_train, Y_train, X_test, Y_test, epochs=50, batch_size=32)"
   ]
  },
  {
   "cell_type": "code",
   "execution_count": 36,
   "metadata": {},
   "outputs": [],
   "source": [
    "# hyperparameters tuning\n",
    "# param_grid = {\n",
    "#     'batch_size': [32, 64, 128],\n",
    "#     'epochs': [10, 50, 100],\n",
    "#     'learning_rate': [0.1, 0.01, 0.001],\n",
    "#     'optimizer': ['adam', 'rmsprop']\n",
    "# }\n",
    "\n",
    "# # kerasClassifier = keras.wrappers.scikit_learn.KerasClassifier(model, verbose=0)\n",
    "\n",
    "\n",
    "# from sklearn.model_selection import GridSearchCV\n",
    "# grid = GridSearchCV(estimator=kerasClassifier, param_grid=param_grid, cv=3)\n",
    "# grid_result = grid.fit(X_train, Y_train)\n",
    "\n",
    "# # print best parameters\n",
    "# print(\"Best: %f using %s\" % (grid_result.best_score_, grid_result.best_params_))\n"
   ]
  },
  {
   "cell_type": "code",
   "execution_count": 24,
   "metadata": {},
   "outputs": [],
   "source": [
    "# feature engineering\n",
    "# data['Day'] = data['Date'].dt.day\n",
    "# data['Month'] = data['Date'].dt.month\n",
    "# data['year'] = data['Date'].dt.year\n",
    "# data = data.drop(['Date'], axis=1)\n",
    "# data = data.reset_index(drop=True)\n",
    "\n",
    "# print(\"Data Shape after feature engineering: \", data.shape)\n"
   ]
  },
  {
   "cell_type": "code",
   "execution_count": null,
   "metadata": {},
   "outputs": [],
   "source": []
  }
 ],
 "metadata": {
  "kernelspec": {
   "display_name": "Python 3",
   "language": "python",
   "name": "python3"
  },
  "language_info": {
   "codemirror_mode": {
    "name": "ipython",
    "version": 3
   },
   "file_extension": ".py",
   "mimetype": "text/x-python",
   "name": "python",
   "nbconvert_exporter": "python",
   "pygments_lexer": "ipython3",
   "version": "3.10.12"
  }
 },
 "nbformat": 4,
 "nbformat_minor": 2
}
